{
 "cells": [
  {
   "cell_type": "markdown",
   "metadata": {},
   "source": [
    "## Initial thoughts\n",
    "- easy to use, does what it says it does\n",
    "- supports GMNS\n",
    "- no contributor guidelines\n",
    "- no issue templates\n",
    "- good deprecated messsages, but quick start guide is out of date\n",
    "- should be an option to write GMNS as GeoJSON links and nodes (more of a nitpick with GMNS than the software)\n",
    "- read the docs lacks API documentation: what are the methods available to me? Can I parse the network?\n",
    "-- I can use a bbox when creating the network, but no API to know that"
   ]
  },
  {
   "cell_type": "code",
   "execution_count": 1,
   "metadata": {},
   "outputs": [
    {
     "name": "stdout",
     "output_type": "stream",
     "text": [
      "osm2gmns, version 0.5.5\n"
     ]
    }
   ],
   "source": [
    "import geopandas as gpd\n",
    "import osm2gmns as og"
   ]
  },
  {
   "cell_type": "code",
   "execution_count": 2,
   "metadata": {},
   "outputs": [],
   "source": [
    "pdx_pbf_filename = \"oregon-latest.osm.pbf\"\n",
    "boundary_filename = \"nw_pdx.geojson\""
   ]
  },
  {
   "cell_type": "code",
   "execution_count": 3,
   "metadata": {},
   "outputs": [],
   "source": [
    "nw_pdx_gdf = gpd.read_file(boundary_filename)"
   ]
  },
  {
   "cell_type": "code",
   "execution_count": 4,
   "metadata": {},
   "outputs": [],
   "source": [
    "nw_pdx_bbox = (\n",
    "    nw_pdx_gdf.bounds.miny[0], \n",
    "    nw_pdx_gdf.bounds.minx[0], \n",
    "    nw_pdx_gdf.bounds.maxy[0], \n",
    "    nw_pdx_gdf.bounds.maxx[0]\n",
    ")"
   ]
  },
  {
   "cell_type": "code",
   "execution_count": null,
   "metadata": {},
   "outputs": [
    {
     "name": "stdout",
     "output_type": "stream",
     "text": [
      "arguments used for network parsing:\n",
      "  filename: oregon-latest.osm.pbf\n",
      "  network_type: auto\n",
      "  link_type: all\n",
      "  POIs: False\n",
      "  POI_sampling_ratio: 1.0\n",
      "  strict_mode: True\n",
      "  offset: no\n",
      "  min_nodes: 1\n",
      "  combine: False\n",
      "  int_buffer: 20.0\n",
      "  bbox: (45.51589832881727, -122.86765431042073, 45.62789278454805, -122.66735759561266)\n",
      "  default_lanes: False\n",
      "  default_speed: False\n",
      "  default_capacity: False\n"
     ]
    }
   ],
   "source": [
    "net = og.getNetFromFile(pdx_pbf_filename, network_type = \"auto\", bbox = nw_pdx_bbox)"
   ]
  },
  {
   "cell_type": "code",
   "execution_count": null,
   "metadata": {},
   "outputs": [],
   "source": [
    "og.outputNetToCSV(net, output_folder = \".\")"
   ]
  }
 ],
 "metadata": {
  "kernelspec": {
   "display_name": "Python 3",
   "language": "python",
   "name": "python3"
  },
  "language_info": {
   "codemirror_mode": {
    "name": "ipython",
    "version": 3
   },
   "file_extension": ".py",
   "mimetype": "text/x-python",
   "name": "python",
   "nbconvert_exporter": "python",
   "pygments_lexer": "ipython3",
   "version": "3.7.7"
  }
 },
 "nbformat": 4,
 "nbformat_minor": 4
}
