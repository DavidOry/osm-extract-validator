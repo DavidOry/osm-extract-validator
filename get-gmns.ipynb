{
 "cells": [
  {
   "cell_type": "markdown",
   "metadata": {},
   "source": [
    "## Initial thoughts\n",
    "- easy to use, does what it says it does\n",
    "- supports GMNS\n",
    "- no contributor guidelines\n",
    "- no issue templates\n",
    "- good deprecated messsages, but quick start guide is out of date\n",
    "- should be an option to write GMNS as GeoJSON links and nodes (more of a nitpick with GMNS than the software)\n",
    "- read the docs lacks API documentation: what are the methods available to me? Can I parse the network?\n",
    "-- I can use a bbox when creating the network, but no API to know that"
   ]
  },
  {
   "cell_type": "code",
   "execution_count": 1,
   "metadata": {},
   "outputs": [
    {
     "name": "stdout",
     "output_type": "stream",
     "text": [
      "osm2gmns, 0.6.4\n"
     ]
    }
   ],
   "source": [
    "import geopandas as gpd\n",
    "import osm2gmns as og"
   ]
  },
  {
   "cell_type": "code",
   "execution_count": 2,
   "metadata": {},
   "outputs": [],
   "source": [
    "# pdx_pbf_filename = \"oregon-latest.osm.pbf\"\n",
    "pdx_pbf_filename = \"Portland.osm.pbf\"\n",
    "boundary_filename = \"nw_pdx.geojson\""
   ]
  },
  {
   "cell_type": "code",
   "execution_count": 3,
   "metadata": {},
   "outputs": [],
   "source": [
    "nw_pdx_gdf = gpd.read_file(boundary_filename)"
   ]
  },
  {
   "cell_type": "code",
   "execution_count": 4,
   "metadata": {},
   "outputs": [],
   "source": [
    "nw_pdx_bbox = (\n",
    "    nw_pdx_gdf.bounds.miny[0], \n",
    "    nw_pdx_gdf.bounds.minx[0], \n",
    "    nw_pdx_gdf.bounds.maxy[0], \n",
    "    nw_pdx_gdf.bounds.maxx[0]\n",
    ")"
   ]
  },
  {
   "cell_type": "code",
   "execution_count": 5,
   "metadata": {},
   "outputs": [
    {
     "name": "stdout",
     "output_type": "stream",
     "text": [
      "arguments used for network parsing:\n",
      "  filename: Portland.osm.pbf\n",
      "  network_types: ('auto',)\n",
      "  link_types: all\n",
      "  POI: False\n",
      "  POI_sampling_ratio: 1.0\n",
      "  strict_mode: True\n",
      "  offset: no\n",
      "  min_nodes: 1\n",
      "  combine: False\n",
      "  bbox: (45.51589832881727, -122.86765431042073, 45.62789278454805, -122.66735759561266)\n",
      "  default_lanes: False\n",
      "  default_speed: False\n",
      "  default_capacity: False\n",
      "\n",
      "Building Network from OSM file\n",
      "  reading osm file\n",
      "  parsing osm network\n",
      "    generating nodes and links\n",
      "  number of nodes: 10396, number of links: 24407, number of pois: 0\n"
     ]
    }
   ],
   "source": [
    "net = og.getNetFromFile(pdx_pbf_filename, bbox = nw_pdx_bbox)"
   ]
  },
  {
   "cell_type": "code",
   "execution_count": 6,
   "metadata": {},
   "outputs": [
    {
     "name": "stdout",
     "output_type": "stream",
     "text": [
      "arguments used for network parsing:\n",
      "  filename: Portland.osm.pbf\n",
      "  network_types: ('auto',)\n",
      "  link_types: all\n",
      "  POI: False\n",
      "  POI_sampling_ratio: 1.0\n",
      "  strict_mode: True\n",
      "  offset: no\n",
      "  min_nodes: 1\n",
      "  combine: False\n",
      "  bbox: (45.51589832881727, -122.86765431042073, 45.62789278454805, -122.66735759561266)\n",
      "  default_lanes: True\n",
      "  default_speed: True\n",
      "  default_capacity: True\n",
      "\n",
      "Building Network from OSM file\n",
      "  reading osm file\n",
      "  parsing osm network\n",
      "    generating nodes and links\n",
      "  number of nodes: 10396, number of links: 24407, number of pois: 0\n"
     ]
    }
   ],
   "source": [
    "net = og.getNetFromFile(\n",
    "    filename = pdx_pbf_filename,\n",
    "    bbox = nw_pdx_bbox,\n",
    "    default_lanes = True,\n",
    "    default_speed = True,\n",
    "    default_capacity = True,\n",
    ") "
   ]
  },
  {
   "cell_type": "code",
   "execution_count": 7,
   "metadata": {},
   "outputs": [
    {
     "name": "stdout",
     "output_type": "stream",
     "text": [
      "Outputting Network Files\n"
     ]
    }
   ],
   "source": [
    "og.outputNetToCSV(net, output_folder = \".\")"
   ]
  },
  {
   "cell_type": "code",
   "execution_count": null,
   "metadata": {},
   "outputs": [],
   "source": []
  }
 ],
 "metadata": {
  "kernelspec": {
   "display_name": "Python 3.7.7 64-bit",
   "language": "python",
   "name": "python3"
  },
  "language_info": {
   "codemirror_mode": {
    "name": "ipython",
    "version": 3
   },
   "file_extension": ".py",
   "mimetype": "text/x-python",
   "name": "python",
   "nbconvert_exporter": "python",
   "pygments_lexer": "ipython3",
   "version": "3.7.7"
  },
  "vscode": {
   "interpreter": {
    "hash": "aee8b7b246df8f9039afb4144a1f6fd8d2ca17a180786b69acc140d282b71a49"
   }
  }
 },
 "nbformat": 4,
 "nbformat_minor": 4
}
