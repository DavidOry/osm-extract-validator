{
 "cells": [
  {
   "cell_type": "markdown",
   "metadata": {},
   "source": [
    "# Get OSMnx Extraction"
   ]
  },
  {
   "cell_type": "code",
   "execution_count": 13,
   "metadata": {},
   "outputs": [],
   "source": [
    "import geopandas as gpd\n",
    "import pandas as pd\n",
    "import osmnx as ox"
   ]
  },
  {
   "cell_type": "markdown",
   "metadata": {},
   "source": [
    "## Remote I/O"
   ]
  },
  {
   "cell_type": "code",
   "execution_count": 16,
   "metadata": {},
   "outputs": [],
   "source": [
    "boundary_filename = \"nw_pdx.geojson\"\n",
    "osm_filename = \"oregon-latest.osm\""
   ]
  },
  {
   "cell_type": "code",
   "execution_count": 17,
   "metadata": {},
   "outputs": [],
   "source": [
    "nw_pdx_gdf = gpd.read_file(boundary_filename)"
   ]
  },
  {
   "cell_type": "markdown",
   "metadata": {},
   "source": [
    "## OSMnx Extraction"
   ]
  },
  {
   "cell_type": "code",
   "execution_count": 10,
   "metadata": {},
   "outputs": [],
   "source": [
    "# Option 1: use OSMnx to fetch\n",
    "graph = ox.graph_from_polygon(\n",
    "    nw_pdx_gdf.to_crs(4326).geometry.unary_union, \n",
    "    network_type = \"drive\", \n",
    "    simplify = True\n",
    ")"
   ]
  },
  {
   "cell_type": "code",
   "execution_count": null,
   "metadata": {},
   "outputs": [],
   "source": [
    "# Option 2: read from disk\n",
    "graph = ox.graph_from_xml(osm_filename)"
   ]
  },
  {
   "cell_type": "code",
   "execution_count": null,
   "metadata": {},
   "outputs": [],
   "source": [
    "small_graph = ox.truncate_graph_bbox(\n",
    "    graph, \n",
    "    nw_pdx_gdf.bounds.maxy[0], \n",
    "    nw_pdx_gdf.bounds.miny[0], \n",
    "    nw_pdx_gdf.bounds.maxx[0], \n",
    "    nw_pdx_gdf.bounds.minx[0]\n",
    ")"
   ]
  },
  {
   "cell_type": "code",
   "execution_count": null,
   "metadata": {},
   "outputs": [],
   "source": [
    "link_gdf = ox.graph_to_gdfs(small_graph, nodes = False, edges = True)"
   ]
  },
  {
   "cell_type": "code",
   "execution_count": null,
   "metadata": {},
   "outputs": [],
   "source": [
    "link_gdf['osmid'] = (\n",
    " pd.DataFrame(link_gdf.osmid.tolist())\n",
    "   .fillna('')\n",
    "   .astype(str)\n",
    "   .agg(','.join, 1)\n",
    "   .str.strip(',')\n",
    ")\n",
    "\n",
    "link_gdf.head()"
   ]
  },
  {
   "cell_type": "code",
   "execution_count": null,
   "metadata": {},
   "outputs": [],
   "source": [
    "osmnx_gdf = link_gdf[['osmid', 'u', 'v', 'geometry']]\n",
    "osmnx_gdf.to_file('osmnx_link_disk.geojson', driver='GeoJSON')"
   ]
  },
  {
   "cell_type": "code",
   "execution_count": null,
   "metadata": {},
   "outputs": [],
   "source": []
  }
 ],
 "metadata": {
  "kernelspec": {
   "display_name": "Python 3",
   "language": "python",
   "name": "python3"
  },
  "language_info": {
   "codemirror_mode": {
    "name": "ipython",
    "version": 3
   },
   "file_extension": ".py",
   "mimetype": "text/x-python",
   "name": "python",
   "nbconvert_exporter": "python",
   "pygments_lexer": "ipython3",
   "version": "3.7.7"
  }
 },
 "nbformat": 4,
 "nbformat_minor": 4
}
